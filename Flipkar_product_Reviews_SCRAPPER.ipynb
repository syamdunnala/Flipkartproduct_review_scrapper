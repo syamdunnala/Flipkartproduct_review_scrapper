{
  "nbformat": 4,
  "nbformat_minor": 0,
  "metadata": {
    "colab": {
      "name": "Flipkar_product Reviews SCRAPPER.ipynb",
      "provenance": [],
      "collapsed_sections": []
    },
    "kernelspec": {
      "name": "python3",
      "display_name": "Python 3"
    }
  },
  "cells": [
    {
      "cell_type": "markdown",
      "metadata": {
        "id": "NArjGkGbkXGL",
        "colab_type": "text"
      },
      "source": [
        "## **Flipkart** **Product** **Reviews**"
      ]
    },
    {
      "cell_type": "code",
      "metadata": {
        "id": "JnTfNkL5AaGR",
        "colab_type": "code",
        "colab": {}
      },
      "source": [
        "##installing required libraries\n",
        "!pip install BeautifulSoup #run only once\n",
        "!pip install requests"
      ],
      "execution_count": null,
      "outputs": []
    },
    {
      "cell_type": "code",
      "metadata": {
        "id": "igzOYDCrkVLM",
        "colab_type": "code",
        "colab": {}
      },
      "source": [
        "# doing necessary imports\n",
        "import requests\n",
        "from bs4 import BeautifulSoup as bs\n",
        "from urllib.request import urlopen as uReq\n",
        "flipkart_url = \"https://www.flipkart.com/search?q=iphone\" # preparing the URL to search the product on flipkart\n",
        "uClient = uReq(flipkart_url) # requesting the webpage from the internet\n",
        "flipkartPage = uClient.read() # reading the webpage\n",
        "uClient.close() # closing the connection to the web server\n",
        "flipkart_html = bs(flipkartPage, \"html.parser\") # parsing the webpage as HTML\n",
        "bigboxes = flipkart_html.findAll(\"div\", {\"class\": \"bhgxx2 col-12-12\"}) # seacrhing for appropriate tag to redirect to the product link\n",
        "del bigboxes[0:3] # the first 3 members of the list do not contain relevant information, hence deleting them.\n",
        "box = bigboxes[0] #  taking the first iteration (for demo)\n",
        "productLink = \"https://www.flipkart.com\" + box.div.div.div.a['href'] # extracting the actual product link\n",
        "prodRes = requests.get(productLink) # getting the product page from server\n",
        "prod_html = bs(prodRes.text, \"html.parser\") # parsing the product page as HTML\n",
        "commentboxes = prod_html.find_all('div', {'class': \"_3nrCtb\"}) # finding the HTML section containing the customer comments\n",
        "filename = \"iphone\"+\".csv\" #  filename to save the details\n",
        "fw = open(filename, \"w\") # creating a local file to save the details\n",
        "headers = \"Product, Customer Name, Rating, Heading, Comment \\n\" # providing the heading of the columns\n",
        "fw.write(headers) # writing first the headers to file\n",
        "reviews = [] # initializing an empty list for reviews\n",
        "searchString='iphone'\n",
        "#  iterating over the comment section to get the details of customer and their comments                \n",
        "for commentbox in commentboxes:\n",
        "                    try:\n",
        "                        name = commentbox.div.div.find_all('p', {'class': '_3LYOAd _3sxSiS'})[0].text\n",
        "\n",
        "                    except:\n",
        "                        name = 'No Name'\n",
        "\n",
        "                    try:\n",
        "                        rating = commentbox.div.div.div.div.text\n",
        "\n",
        "                    except:\n",
        "                        rating = 'No Rating'\n",
        "\n",
        "                    try:\n",
        "                        commentHead = commentbox.div.div.div.p.text\n",
        "\n",
        "                    except:\n",
        "                        commentHead = 'No Comment Heading'\n",
        "\n",
        "                    try:\n",
        "                        comtag = commentbox.div.div.find_all('div', {'class': ''})\n",
        "                        custComment = comtag[0].div.text\n",
        "\n",
        "                    except:\n",
        "                        custComment = 'No Customer Comment'\n",
        "\n",
        "                    mydict = {\"Product\": searchString, \"Name\": name, \"Rating\": rating, \"CommentHead\": commentHead,\n",
        "                    \"Comment\": custComment} # saving that detail to a dictionary                   \n",
        "                    fw.write(searchString+\",\"+name.replace(\",\", \":\")+\",\"+rating + \",\" + commentHead.replace(\",\", \":\") + \",\" + custComment.replace(\",\", \":\") + \"\\n\")\n",
        "                    reviews.append(mydict) #  appending the comments to the review list\n",
        "fw.close()\n",
        "#return render_template('results.html', reviews=reviews) # showing the review to the user              "
      ],
      "execution_count": null,
      "outputs": []
    },
    {
      "cell_type": "markdown",
      "metadata": {
        "id": "mvgjDm-4kQk4",
        "colab_type": "text"
      },
      "source": [
        "# **Exporting** **to** .**csv** **file**"
      ]
    },
    {
      "cell_type": "code",
      "metadata": {
        "id": "BPrPipMQWGE2",
        "colab_type": "code",
        "colab": {
          "base_uri": "https://localhost:8080/",
          "height": 17
        },
        "outputId": "6191a722-0f24-4831-e698-348698a1464c"
      },
      "source": [
        "from google.colab import files\n",
        "files.download(\"iphone.csv\")"
      ],
      "execution_count": null,
      "outputs": [
        {
          "output_type": "display_data",
          "data": {
            "application/javascript": [
              "\n",
              "    async function download(id, filename, size) {\n",
              "      if (!google.colab.kernel.accessAllowed) {\n",
              "        return;\n",
              "      }\n",
              "      const div = document.createElement('div');\n",
              "      const label = document.createElement('label');\n",
              "      label.textContent = `Downloading \"${filename}\": `;\n",
              "      div.appendChild(label);\n",
              "      const progress = document.createElement('progress');\n",
              "      progress.max = size;\n",
              "      div.appendChild(progress);\n",
              "      document.body.appendChild(div);\n",
              "\n",
              "      const buffers = [];\n",
              "      let downloaded = 0;\n",
              "\n",
              "      const channel = await google.colab.kernel.comms.open(id);\n",
              "      // Send a message to notify the kernel that we're ready.\n",
              "      channel.send({})\n",
              "\n",
              "      for await (const message of channel.messages) {\n",
              "        // Send a message to notify the kernel that we're ready.\n",
              "        channel.send({})\n",
              "        if (message.buffers) {\n",
              "          for (const buffer of message.buffers) {\n",
              "            buffers.push(buffer);\n",
              "            downloaded += buffer.byteLength;\n",
              "            progress.value = downloaded;\n",
              "          }\n",
              "        }\n",
              "      }\n",
              "      const blob = new Blob(buffers, {type: 'application/binary'});\n",
              "      const a = document.createElement('a');\n",
              "      a.href = window.URL.createObjectURL(blob);\n",
              "      a.download = filename;\n",
              "      div.appendChild(a);\n",
              "      a.click();\n",
              "      div.remove();\n",
              "    }\n",
              "  "
            ],
            "text/plain": [
              "<IPython.core.display.Javascript object>"
            ]
          },
          "metadata": {
            "tags": []
          }
        },
        {
          "output_type": "display_data",
          "data": {
            "application/javascript": [
              "download(\"download_ed620ea0-b96e-4c2b-97d2-66f4611ac292\", \"iphone.csv\", 3502)"
            ],
            "text/plain": [
              "<IPython.core.display.Javascript object>"
            ]
          },
          "metadata": {
            "tags": []
          }
        }
      ]
    }
  ]
}