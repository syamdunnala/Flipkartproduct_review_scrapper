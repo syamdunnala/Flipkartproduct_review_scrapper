{
  "nbformat": 4,
  "nbformat_minor": 0,
  "metadata": {
    "colab": {
      "name": "Flipkar_product Reviews SCRAPPER.ipynb",
      "provenance": [],
      "collapsed_sections": [],
      "authorship_tag": "ABX9TyNmrt9MEMXB6RMNS6iJEDmv",
      "include_colab_link": true
    },
    "kernelspec": {
      "name": "python3",
      "display_name": "Python 3"
    },
    "accelerator": "GPU"
  },
  "cells": [
    {
      "cell_type": "markdown",
      "metadata": {
        "id": "view-in-github",
        "colab_type": "text"
      },
      "source": [
        "<a href=\"https://colab.research.google.com/github/syamdunnala/Flipkartproduct_review_scrapper/blob/master/Flipkar_product_Reviews_%20from%20image%20SCRAPPER.ipynb\" target=\"_parent\"><img src=\"https://colab.research.google.com/assets/colab-badge.svg\" alt=\"Open In Colab\"/></a>"
      ]
    },
    {
      "cell_type": "markdown",
      "metadata": {
        "id": "NArjGkGbkXGL",
        "colab_type": "text"
      },
      "source": [
        "## **Flipkart** **Product** **Reviews**"
      ]
    },
    {
      "cell_type": "code",
      "metadata": {
        "id": "JnTfNkL5AaGR",
        "colab_type": "code",
        "colab": {
          "base_uri": "https://localhost:8080/",
          "height": 173
        },
        "outputId": "e6ed28e5-e944-4fbf-fffd-1685a46dd33c"
      },
      "source": [
        "##installing required libraries\n",
        "!pip install BeautifulSoup #run only once\n",
        "!pip install requests"
      ],
      "execution_count": 2,
      "outputs": [
        {
          "output_type": "stream",
          "text": [
            "Collecting BeautifulSoup\n",
            "  Downloading https://files.pythonhosted.org/packages/40/f2/6c9f2f3e696ee6a1fb0e4d7850617e224ed2b0b1e872110abffeca2a09d4/BeautifulSoup-3.2.2.tar.gz\n",
            "\u001b[31mERROR: Command errored out with exit status 1: python setup.py egg_info Check the logs for full command output.\u001b[0m\n",
            "Requirement already satisfied: requests in /usr/local/lib/python3.6/dist-packages (2.23.0)\n",
            "Requirement already satisfied: urllib3!=1.25.0,!=1.25.1,<1.26,>=1.21.1 in /usr/local/lib/python3.6/dist-packages (from requests) (1.24.3)\n",
            "Requirement already satisfied: certifi>=2017.4.17 in /usr/local/lib/python3.6/dist-packages (from requests) (2020.6.20)\n",
            "Requirement already satisfied: idna<3,>=2.5 in /usr/local/lib/python3.6/dist-packages (from requests) (2.10)\n",
            "Requirement already satisfied: chardet<4,>=3.0.2 in /usr/local/lib/python3.6/dist-packages (from requests) (3.0.4)\n"
          ],
          "name": "stdout"
        }
      ]
    },
    {
      "cell_type": "code",
      "metadata": {
        "id": "O3Qnut1eJCbI",
        "colab_type": "code",
        "colab": {
          "base_uri": "https://localhost:8080/",
          "height": 462
        },
        "outputId": "e67b756d-bc9e-4a30-efe6-0e30f0ccf814"
      },
      "source": [
        "!pip install easyocr"
      ],
      "execution_count": 3,
      "outputs": [
        {
          "output_type": "stream",
          "text": [
            "Collecting easyocr\n",
            "\u001b[?25l  Downloading https://files.pythonhosted.org/packages/80/18/a1b440dabeda91ad3eb7470a998c3157414e932766db99bae9d93102608a/easyocr-1.1.8-py3-none-any.whl (48.4MB)\n",
            "\u001b[K     |████████████████████████████████| 48.4MB 63kB/s \n",
            "\u001b[?25hRequirement already satisfied: torch in /usr/local/lib/python3.6/dist-packages (from easyocr) (1.6.0+cu101)\n",
            "Requirement already satisfied: torchvision>=0.5 in /usr/local/lib/python3.6/dist-packages (from easyocr) (0.7.0+cu101)\n",
            "Collecting python-bidi\n",
            "  Downloading https://files.pythonhosted.org/packages/33/b0/f942d146a2f457233baaafd6bdf624eba8e0f665045b4abd69d1b62d097d/python_bidi-0.4.2-py2.py3-none-any.whl\n",
            "Requirement already satisfied: scikit-image in /usr/local/lib/python3.6/dist-packages (from easyocr) (0.16.2)\n",
            "Requirement already satisfied: numpy in /usr/local/lib/python3.6/dist-packages (from easyocr) (1.18.5)\n",
            "Requirement already satisfied: opencv-python in /usr/local/lib/python3.6/dist-packages (from easyocr) (4.1.2.30)\n",
            "Requirement already satisfied: Pillow in /usr/local/lib/python3.6/dist-packages (from easyocr) (7.0.0)\n",
            "Requirement already satisfied: scipy in /usr/local/lib/python3.6/dist-packages (from easyocr) (1.4.1)\n",
            "Requirement already satisfied: future in /usr/local/lib/python3.6/dist-packages (from torch->easyocr) (0.16.0)\n",
            "Requirement already satisfied: six in /usr/local/lib/python3.6/dist-packages (from python-bidi->easyocr) (1.15.0)\n",
            "Requirement already satisfied: matplotlib!=3.0.0,>=2.0.0 in /usr/local/lib/python3.6/dist-packages (from scikit-image->easyocr) (3.2.2)\n",
            "Requirement already satisfied: imageio>=2.3.0 in /usr/local/lib/python3.6/dist-packages (from scikit-image->easyocr) (2.4.1)\n",
            "Requirement already satisfied: PyWavelets>=0.4.0 in /usr/local/lib/python3.6/dist-packages (from scikit-image->easyocr) (1.1.1)\n",
            "Requirement already satisfied: networkx>=2.0 in /usr/local/lib/python3.6/dist-packages (from scikit-image->easyocr) (2.5)\n",
            "Requirement already satisfied: python-dateutil>=2.1 in /usr/local/lib/python3.6/dist-packages (from matplotlib!=3.0.0,>=2.0.0->scikit-image->easyocr) (2.8.1)\n",
            "Requirement already satisfied: kiwisolver>=1.0.1 in /usr/local/lib/python3.6/dist-packages (from matplotlib!=3.0.0,>=2.0.0->scikit-image->easyocr) (1.2.0)\n",
            "Requirement already satisfied: pyparsing!=2.0.4,!=2.1.2,!=2.1.6,>=2.0.1 in /usr/local/lib/python3.6/dist-packages (from matplotlib!=3.0.0,>=2.0.0->scikit-image->easyocr) (2.4.7)\n",
            "Requirement already satisfied: cycler>=0.10 in /usr/local/lib/python3.6/dist-packages (from matplotlib!=3.0.0,>=2.0.0->scikit-image->easyocr) (0.10.0)\n",
            "Requirement already satisfied: decorator>=4.3.0 in /usr/local/lib/python3.6/dist-packages (from networkx>=2.0->scikit-image->easyocr) (4.4.2)\n",
            "Installing collected packages: python-bidi, easyocr\n",
            "Successfully installed easyocr-1.1.8 python-bidi-0.4.2\n"
          ],
          "name": "stdout"
        }
      ]
    },
    {
      "cell_type": "code",
      "metadata": {
        "id": "ebZcxEZuJJKB",
        "colab_type": "code",
        "colab": {}
      },
      "source": [
        "import matplotlib.pyplot as plt\n",
        "import cv2\n",
        "import easyocr\n",
        "from pylab import rcParams\n",
        "from IPython.display import Image"
      ],
      "execution_count": 4,
      "outputs": []
    },
    {
      "cell_type": "code",
      "metadata": {
        "id": "pf0A9tuIJoyS",
        "colab_type": "code",
        "colab": {
          "base_uri": "https://localhost:8080/",
          "height": 327
        },
        "outputId": "785bb748-fa57-4a35-facc-cdbf0bec7d6b"
      },
      "source": [
        "rcParams['figure.figsize'] = 8, 16\n",
        "reader = easyocr.Reader(['en'])\n",
        "file_name = \"Dell.jpg\"\n",
        "Image(file_name)"
      ],
      "execution_count": 6,
      "outputs": [
        {
          "output_type": "stream",
          "text": [
            "Downloading detection model, please wait. This may take several minutes depending upon your network connection.\n"
          ],
          "name": "stderr"
        },
        {
          "output_type": "stream",
          "text": [
            ""
          ],
          "name": "stdout"
        },
        {
          "output_type": "stream",
          "text": [
            "Downloading recognition model, please wait. This may take several minutes depending upon your network connection.\n"
          ],
          "name": "stderr"
        },
        {
          "output_type": "stream",
          "text": [
            ""
          ],
          "name": "stdout"
        },
        {
          "output_type": "execute_result",
          "data": {
            "image/jpeg": "[encoded data removed]",
            "text/plain": [
              "<IPython.core.display.Image object>"
            ]
          },
          "metadata": {
            "tags": []
          },
          "execution_count": 6
        }
      ]
    },
    {
      "cell_type": "code",
      "metadata": {
        "id": "rPWcqtEQJ_Za",
        "colab_type": "code",
        "colab": {
          "base_uri": "https://localhost:8080/",
          "height": 35
        },
        "outputId": "3ef9cd9f-a792-46bd-ba6f-4b65b7179fee"
      },
      "source": [
        "output = reader.readtext(file_name)\n",
        "cord = output[0][1]\n",
        "input = cord.replace(\"'\",\"\")\n",
        "input"
      ],
      "execution_count": 14,
      "outputs": [
        {
          "output_type": "execute_result",
          "data": {
            "application/vnd.google.colaboratory.intrinsic+json": {
              "type": "string"
            },
            "text/plain": [
              "'Dettol'"
            ]
          },
          "metadata": {
            "tags": []
          },
          "execution_count": 14
        }
      ]
    },
    {
      "cell_type": "code",
      "metadata": {
        "id": "IOFZ1xEbMWNt",
        "colab_type": "code",
        "colab": {}
      },
      "source": [
        "# doing necessary imports\n",
        "import requests\n",
        "from bs4 import BeautifulSoup as bs\n",
        "from urllib.request import urlopen as uReq\n",
        "flipkart_url = \"https://www.flipkart.com/search?q=input\" # preparing the URL to search the product on flipkart\n",
        "uClient = uReq(flipkart_url) # requesting the webpage from the internet\n",
        "flipkartPage = uClient.read() # reading the webpage"
      ],
      "execution_count": 19,
      "outputs": []
    },
    {
      "cell_type": "code",
      "metadata": {
        "id": "EAJXTWZ7MeVc",
        "colab_type": "code",
        "colab": {}
      },
      "source": [
        "\n",
        "uClient.close() # closing the connection to the web server\n",
        "flipkart_html = bs(flipkartPage, \"html.parser\") # parsing the webpage as HTML\n",
        "bigboxes = flipkart_html.findAll(\"div\", {\"class\": \"bhgxx2 col-12-12\"}) # seacrhing for appropriate tag to redirect to the product link\n",
        "del bigboxes[0:3] # the first 3 members of the list do not contain relevant information, hence deleting them.\n",
        "box = bigboxes[0] #  taking the first iteration (for demo)\n",
        "productLink = \"https://www.flipkart.com\" + box.div.div.div.a['href'] # extracting the actual product link\n",
        "prodRes = requests.get(productLink) # getting the product page from server\n",
        "prod_html = bs(prodRes.text, \"html.parser\") # parsing the product page as HTML\n",
        "commentboxes = prod_html.find_all('div', {'class': \"_3nrCtb\"}) # finding the HTML section containing the customer comments\n",
        "filename = input+\".csv\" #  filename to save the details"
      ],
      "execution_count": 20,
      "outputs": []
    },
    {
      "cell_type": "code",
      "metadata": {
        "id": "jAzMgosXMzPx",
        "colab_type": "code",
        "colab": {
          "base_uri": "https://localhost:8080/",
          "height": 35
        },
        "outputId": "b0ae45c3-4d55-41ac-daf3-5a398ea29e9b"
      },
      "source": [
        "filename"
      ],
      "execution_count": 25,
      "outputs": [
        {
          "output_type": "execute_result",
          "data": {
            "application/vnd.google.colaboratory.intrinsic+json": {
              "type": "string"
            },
            "text/plain": [
              "'Dettol.csv'"
            ]
          },
          "metadata": {
            "tags": []
          },
          "execution_count": 25
        }
      ]
    },
    {
      "cell_type": "code",
      "metadata": {
        "id": "k49S8OW6MkdC",
        "colab_type": "code",
        "colab": {}
      },
      "source": [
        "\n",
        "fw = open(filename, \"w\") # creating a local file to save the details\n",
        "headers = \"Product, Customer Name, Rating, Heading, Comment \\n\" # providing the heading of the columns\n",
        "fw.write(headers) # writing first the headers to file\n",
        "reviews = [] # initializing an empty list for reviews\n",
        "searchString=input\n"
      ],
      "execution_count": 21,
      "outputs": []
    },
    {
      "cell_type": "code",
      "metadata": {
        "id": "igzOYDCrkVLM",
        "colab_type": "code",
        "colab": {}
      },
      "source": [
        "#  iterating over the comment section to get the details of customer and their comments                \n",
        "for commentbox in commentboxes:\n",
        "                    try:\n",
        "                        name = commentbox.div.div.find_all('p', {'class': '_3LYOAd _3sxSiS'})[0].text\n",
        "\n",
        "                    except:\n",
        "                        name = 'No Name'\n",
        "\n",
        "                    try:\n",
        "                        rating = commentbox.div.div.div.div.text\n",
        "\n",
        "                    except:\n",
        "                        rating = 'No Rating'\n",
        "\n",
        "                    try:\n",
        "                        commentHead = commentbox.div.div.div.p.text\n",
        "\n",
        "                    except:\n",
        "                        commentHead = 'No Comment Heading'\n",
        "\n",
        "                    try:\n",
        "                        comtag = commentbox.div.div.find_all('div', {'class': ''})\n",
        "                        custComment = comtag[0].div.text\n",
        "\n",
        "                    except:\n",
        "                        custComment = 'No Customer Comment'\n",
        "\n",
        "                    mydict = {\"Product\": searchString, \"Name\": name, \"Rating\": rating, \"CommentHead\": commentHead,\n",
        "                    \"Comment\": custComment} # saving that detail to a dictionary                   \n",
        "                    fw.write(searchString+\",\"+name.replace(\",\", \":\")+\",\"+rating + \",\" + commentHead.replace(\",\", \":\") + \",\" + custComment.replace(\",\", \":\") + \"\\n\")\n",
        "                    reviews.append(mydict) #  appending the comments to the review list\n",
        "fw.close()\n",
        "#return render_template('results.html', reviews=reviews) # showing the review to the user              "
      ],
      "execution_count": 22,
      "outputs": []
    },
    {
      "cell_type": "code",
      "metadata": {
        "id": "V2w3P375MjXT",
        "colab_type": "code",
        "colab": {}
      },
      "source": [
        ""
      ],
      "execution_count": null,
      "outputs": []
    },
    {
      "cell_type": "code",
      "metadata": {
        "id": "6aJqE06SJ-AP",
        "colab_type": "code",
        "colab": {}
      },
      "source": [
        ""
      ],
      "execution_count": null,
      "outputs": []
    },
    {
      "cell_type": "markdown",
      "metadata": {
        "id": "mvgjDm-4kQk4",
        "colab_type": "text"
      },
      "source": [
        "# **Exporting** **to** .**csv** **file**"
      ]
    },
    {
      "cell_type": "code",
      "metadata": {
        "id": "BPrPipMQWGE2",
        "colab_type": "code",
        "colab": {
          "base_uri": "https://localhost:8080/",
          "height": 17
        },
        "outputId": "4d52f19a-2dba-4c5a-bbf7-68d7a9ea0578"
      },
      "source": [
        "from google.colab import files\n",
        "files.download(\"Dettol.csv\")"
      ],
      "execution_count": 26,
      "outputs": [
        {
          "output_type": "display_data",
          "data": {
            "application/javascript": [
              "\n",
              "    async function download(id, filename, size) {\n",
              "      if (!google.colab.kernel.accessAllowed) {\n",
              "        return;\n",
              "      }\n",
              "      const div = document.createElement('div');\n",
              "      const label = document.createElement('label');\n",
              "      label.textContent = `Downloading \"${filename}\": `;\n",
              "      div.appendChild(label);\n",
              "      const progress = document.createElement('progress');\n",
              "      progress.max = size;\n",
              "      div.appendChild(progress);\n",
              "      document.body.appendChild(div);\n",
              "\n",
              "      const buffers = [];\n",
              "      let downloaded = 0;\n",
              "\n",
              "      const channel = await google.colab.kernel.comms.open(id);\n",
              "      // Send a message to notify the kernel that we're ready.\n",
              "      channel.send({})\n",
              "\n",
              "      for await (const message of channel.messages) {\n",
              "        // Send a message to notify the kernel that we're ready.\n",
              "        channel.send({})\n",
              "        if (message.buffers) {\n",
              "          for (const buffer of message.buffers) {\n",
              "            buffers.push(buffer);\n",
              "            downloaded += buffer.byteLength;\n",
              "            progress.value = downloaded;\n",
              "          }\n",
              "        }\n",
              "      }\n",
              "      const blob = new Blob(buffers, {type: 'application/binary'});\n",
              "      const a = document.createElement('a');\n",
              "      a.href = window.URL.createObjectURL(blob);\n",
              "      a.download = filename;\n",
              "      div.appendChild(a);\n",
              "      a.click();\n",
              "      div.remove();\n",
              "    }\n",
              "  "
            ],
            "text/plain": [
              "<IPython.core.display.Javascript object>"
            ]
          },
          "metadata": {
            "tags": []
          }
        },
        {
          "output_type": "display_data",
          "data": {
            "application/javascript": [
              "download(\"download_f4aef042-f7ab-4058-871e-b5a72c62fcb1\", \"Dettol.csv\", 1877)"
            ],
            "text/plain": [
              "<IPython.core.display.Javascript object>"
            ]
          },
          "metadata": {
            "tags": []
          }
        }
      ]
    },
    {
      "cell_type": "code",
      "metadata": {
        "id": "DOEW83YMM4d0",
        "colab_type": "code",
        "colab": {}
      },
      "source": [
        ""
      ],
      "execution_count": null,
      "outputs": []
    }
  ]
}